{
 "cells": [
  {
   "cell_type": "markdown",
   "id": "8770e59f",
   "metadata": {
    "id": "8770e59f"
   },
   "source": [
    "# Modèles de Machine Learning pour la prédiction de l'énergie\n",
    "\n",
    "Nombre d'atomes par molécule : entre 4 et 23  \n",
    "Atomes présents : {1, 6, 7, 8, 16, 17}"
   ]
  },
  {
   "cell_type": "code",
   "execution_count": 1,
   "id": "XVYnxPPRx-8P",
   "metadata": {
    "colab": {
     "base_uri": "https://localhost:8080/"
    },
    "id": "XVYnxPPRx-8P",
    "outputId": "77f8416c-fbd8-4349-c5fc-0e004f68b5de"
   },
   "outputs": [],
   "source": [
    "# !pip install ase\n",
    "# !pip install dscribe\n",
    "\n",
    "# !git clone https://github.com/clemtarge/MolecularEnergy.git\n",
    "# %cd MolecularEnergy/"
   ]
  },
  {
   "cell_type": "code",
   "execution_count": 2,
   "id": "55d55621",
   "metadata": {
    "colab": {
     "base_uri": "https://localhost:8080/",
     "height": 373
    },
    "id": "55d55621",
    "outputId": "6c4ebb08-46c3-4307-c92b-adc8b5eae47b",
    "scrolled": true
   },
   "outputs": [],
   "source": [
    "import os\n",
    "import numpy as np\n",
    "import pandas as pd\n",
    "from ase import io\n",
    "import matplotlib.pyplot as plt\n",
    "from sklearn.decomposition import PCA\n",
    "from sklearn.preprocessing import OneHotEncoder\n",
    "from tqdm.notebook import tqdm\n",
    "from dscribe.descriptors.coulombmatrix import CoulombMatrix"
   ]
  },
  {
   "cell_type": "markdown",
   "id": "6652d034",
   "metadata": {},
   "source": [
    "## Lecture d'un fichier"
   ]
  },
  {
   "cell_type": "code",
   "execution_count": 3,
   "id": "4ad14c3e",
   "metadata": {
    "colab": {
     "base_uri": "https://localhost:8080/"
    },
    "id": "4ad14c3e",
    "outputId": "8654b332-15da-4789-8477-48a32754710f"
   },
   "outputs": [
    {
     "name": "stdout",
     "output_type": "stream",
     "text": [
      "[6 6 6 6 6 7 6 1 1 1 1 1 1 1 1 1 1 1 1 1]\n",
      "['C', 'C', 'C', 'C', 'C', 'N', 'C', 'H', 'H', 'H', 'H', 'H', 'H', 'H', 'H', 'H', 'H', 'H', 'H', 'H']\n"
     ]
    }
   ],
   "source": [
    "atom = io.read(\"train/atoms/train/id_2.xyz\")\n",
    "print(atom.get_atomic_numbers())\n",
    "print(atom.get_chemical_symbols())"
   ]
  },
  {
   "cell_type": "code",
   "execution_count": 4,
   "id": "b57e538c",
   "metadata": {
    "id": "b57e538c",
    "outputId": "4e9dd47f-cd86-4bb9-9d69-4747729fbf1a",
    "scrolled": false
   },
   "outputs": [
    {
     "name": "stdout",
     "output_type": "stream",
     "text": [
      "['C', 'C', 'C', 'C', 'C', 'N', 'C', 'H', 'H', 'H', 'H', 'H', 'H', 'H', 'H', 'H', 'H', 'H', 'H', 'H']\n"
     ]
    },
    {
     "data": {
      "text/html": [
       "<html>\n",
       "\n",
       " <head>\n",
       "\n",
       "  <title>ASE atomic visualization</title>\n",
       "\n",
       "  <link rel=\"stylesheet\" type=\"text/css\"\n",
       "\n",
       "   href=\"https://www.x3dom.org/x3dom/release/x3dom.css\">\n",
       "\n",
       "  </link>\n",
       "\n",
       "  <script type=\"text/javascript\"\n",
       "\n",
       "   src=\"https://www.x3dom.org/x3dom/release/x3dom.js\">\n",
       "\n",
       "  </script>\n",
       "\n",
       " </head>\n",
       "\n",
       " <body>\n",
       "\n",
       "  <X3D>\n",
       "\n",
       "   <Scene>\n",
       "\n",
       "    <Transform translation=\"-1.46 0.39 -1.20\">\n",
       "\n",
       "     <Shape>\n",
       "\n",
       "      <Appearance>\n",
       "\n",
       "       <Material diffuseColor=\"0.565 0.565 0.565\" specularColor=\"0.5 0.5 0.5\">\n",
       "\n",
       "       </Material>\n",
       "\n",
       "      </Appearance>\n",
       "\n",
       "      <Sphere radius=\"0.76\">\n",
       "\n",
       "      </Sphere>\n",
       "\n",
       "     </Shape>\n",
       "\n",
       "    </Transform>\n",
       "\n",
       "    <Transform translation=\"0.08 0.42 -1.16\">\n",
       "\n",
       "     <Shape>\n",
       "\n",
       "      <Appearance>\n",
       "\n",
       "       <Material diffuseColor=\"0.565 0.565 0.565\" specularColor=\"0.5 0.5 0.5\">\n",
       "\n",
       "       </Material>\n",
       "\n",
       "      </Appearance>\n",
       "\n",
       "      <Sphere radius=\"0.76\">\n",
       "\n",
       "      </Sphere>\n",
       "\n",
       "     </Shape>\n",
       "\n",
       "    </Transform>\n",
       "\n",
       "    <Transform translation=\"0.65 0.17 0.26\">\n",
       "\n",
       "     <Shape>\n",
       "\n",
       "      <Appearance>\n",
       "\n",
       "       <Material diffuseColor=\"0.565 0.565 0.565\" specularColor=\"0.5 0.5 0.5\">\n",
       "\n",
       "       </Material>\n",
       "\n",
       "      </Appearance>\n",
       "\n",
       "      <Sphere radius=\"0.76\">\n",
       "\n",
       "      </Sphere>\n",
       "\n",
       "     </Shape>\n",
       "\n",
       "    </Transform>\n",
       "\n",
       "    <Transform translation=\"0.24 -1.10 1.02\">\n",
       "\n",
       "     <Shape>\n",
       "\n",
       "      <Appearance>\n",
       "\n",
       "       <Material diffuseColor=\"0.565 0.565 0.565\" specularColor=\"0.5 0.5 0.5\">\n",
       "\n",
       "       </Material>\n",
       "\n",
       "      </Appearance>\n",
       "\n",
       "      <Sphere radius=\"0.76\">\n",
       "\n",
       "      </Sphere>\n",
       "\n",
       "     </Shape>\n",
       "\n",
       "    </Transform>\n",
       "\n",
       "    <Transform translation=\"-0.17 -0.19 2.18\">\n",
       "\n",
       "     <Shape>\n",
       "\n",
       "      <Appearance>\n",
       "\n",
       "       <Material diffuseColor=\"0.565 0.565 0.565\" specularColor=\"0.5 0.5 0.5\">\n",
       "\n",
       "       </Material>\n",
       "\n",
       "      </Appearance>\n",
       "\n",
       "      <Sphere radius=\"0.76\">\n",
       "\n",
       "      </Sphere>\n",
       "\n",
       "     </Shape>\n",
       "\n",
       "    </Transform>\n",
       "\n",
       "    <Transform translation=\"0.05 1.01 1.34\">\n",
       "\n",
       "     <Shape>\n",
       "\n",
       "      <Appearance>\n",
       "\n",
       "       <Material diffuseColor=\"0.188 0.314 0.973\" specularColor=\"0.5 0.5 0.5\">\n",
       "\n",
       "       </Material>\n",
       "\n",
       "      </Appearance>\n",
       "\n",
       "      <Sphere radius=\"0.71\">\n",
       "\n",
       "      </Sphere>\n",
       "\n",
       "     </Shape>\n",
       "\n",
       "    </Transform>\n",
       "\n",
       "    <Transform translation=\"0.68 -0.57 -2.17\">\n",
       "\n",
       "     <Shape>\n",
       "\n",
       "      <Appearance>\n",
       "\n",
       "       <Material diffuseColor=\"0.565 0.565 0.565\" specularColor=\"0.5 0.5 0.5\">\n",
       "\n",
       "       </Material>\n",
       "\n",
       "      </Appearance>\n",
       "\n",
       "      <Sphere radius=\"0.76\">\n",
       "\n",
       "      </Sphere>\n",
       "\n",
       "     </Shape>\n",
       "\n",
       "    </Transform>\n",
       "\n",
       "    <Transform translation=\"-1.87 1.07 -0.45\">\n",
       "\n",
       "     <Shape>\n",
       "\n",
       "      <Appearance>\n",
       "\n",
       "       <Material diffuseColor=\"1.000 1.000 1.000\" specularColor=\"0.5 0.5 0.5\">\n",
       "\n",
       "       </Material>\n",
       "\n",
       "      </Appearance>\n",
       "\n",
       "      <Sphere radius=\"0.31\">\n",
       "\n",
       "      </Sphere>\n",
       "\n",
       "     </Shape>\n",
       "\n",
       "    </Transform>\n",
       "\n",
       "    <Transform translation=\"-1.84 -0.60 -0.99\">\n",
       "\n",
       "     <Shape>\n",
       "\n",
       "      <Appearance>\n",
       "\n",
       "       <Material diffuseColor=\"1.000 1.000 1.000\" specularColor=\"0.5 0.5 0.5\">\n",
       "\n",
       "       </Material>\n",
       "\n",
       "      </Appearance>\n",
       "\n",
       "      <Sphere radius=\"0.31\">\n",
       "\n",
       "      </Sphere>\n",
       "\n",
       "     </Shape>\n",
       "\n",
       "    </Transform>\n",
       "\n",
       "    <Transform translation=\"-1.83 0.69 -2.18\">\n",
       "\n",
       "     <Shape>\n",
       "\n",
       "      <Appearance>\n",
       "\n",
       "       <Material diffuseColor=\"1.000 1.000 1.000\" specularColor=\"0.5 0.5 0.5\">\n",
       "\n",
       "       </Material>\n",
       "\n",
       "      </Appearance>\n",
       "\n",
       "      <Sphere radius=\"0.31\">\n",
       "\n",
       "      </Sphere>\n",
       "\n",
       "     </Shape>\n",
       "\n",
       "    </Transform>\n",
       "\n",
       "    <Transform translation=\"0.39 1.44 -1.46\">\n",
       "\n",
       "     <Shape>\n",
       "\n",
       "      <Appearance>\n",
       "\n",
       "       <Material diffuseColor=\"1.000 1.000 1.000\" specularColor=\"0.5 0.5 0.5\">\n",
       "\n",
       "       </Material>\n",
       "\n",
       "      </Appearance>\n",
       "\n",
       "      <Sphere radius=\"0.31\">\n",
       "\n",
       "      </Sphere>\n",
       "\n",
       "     </Shape>\n",
       "\n",
       "    </Transform>\n",
       "\n",
       "    <Transform translation=\"1.75 0.29 0.22\">\n",
       "\n",
       "     <Shape>\n",
       "\n",
       "      <Appearance>\n",
       "\n",
       "       <Material diffuseColor=\"1.000 1.000 1.000\" specularColor=\"0.5 0.5 0.5\">\n",
       "\n",
       "       </Material>\n",
       "\n",
       "      </Appearance>\n",
       "\n",
       "      <Sphere radius=\"0.31\">\n",
       "\n",
       "      </Sphere>\n",
       "\n",
       "     </Shape>\n",
       "\n",
       "    </Transform>\n",
       "\n",
       "    <Transform translation=\"1.05 -1.81 1.23\">\n",
       "\n",
       "     <Shape>\n",
       "\n",
       "      <Appearance>\n",
       "\n",
       "       <Material diffuseColor=\"1.000 1.000 1.000\" specularColor=\"0.5 0.5 0.5\">\n",
       "\n",
       "       </Material>\n",
       "\n",
       "      </Appearance>\n",
       "\n",
       "      <Sphere radius=\"0.31\">\n",
       "\n",
       "      </Sphere>\n",
       "\n",
       "     </Shape>\n",
       "\n",
       "    </Transform>\n",
       "\n",
       "    <Transform translation=\"-0.59 -1.66 0.57\">\n",
       "\n",
       "     <Shape>\n",
       "\n",
       "      <Appearance>\n",
       "\n",
       "       <Material diffuseColor=\"1.000 1.000 1.000\" specularColor=\"0.5 0.5 0.5\">\n",
       "\n",
       "       </Material>\n",
       "\n",
       "      </Appearance>\n",
       "\n",
       "      <Sphere radius=\"0.31\">\n",
       "\n",
       "      </Sphere>\n",
       "\n",
       "     </Shape>\n",
       "\n",
       "    </Transform>\n",
       "\n",
       "    <Transform translation=\"0.50 -0.24 3.05\">\n",
       "\n",
       "     <Shape>\n",
       "\n",
       "      <Appearance>\n",
       "\n",
       "       <Material diffuseColor=\"1.000 1.000 1.000\" specularColor=\"0.5 0.5 0.5\">\n",
       "\n",
       "       </Material>\n",
       "\n",
       "      </Appearance>\n",
       "\n",
       "      <Sphere radius=\"0.31\">\n",
       "\n",
       "      </Sphere>\n",
       "\n",
       "     </Shape>\n",
       "\n",
       "    </Transform>\n",
       "\n",
       "    <Transform translation=\"-1.20 -0.29 2.54\">\n",
       "\n",
       "     <Shape>\n",
       "\n",
       "      <Appearance>\n",
       "\n",
       "       <Material diffuseColor=\"1.000 1.000 1.000\" specularColor=\"0.5 0.5 0.5\">\n",
       "\n",
       "       </Material>\n",
       "\n",
       "      </Appearance>\n",
       "\n",
       "      <Sphere radius=\"0.31\">\n",
       "\n",
       "      </Sphere>\n",
       "\n",
       "     </Shape>\n",
       "\n",
       "    </Transform>\n",
       "\n",
       "    <Transform translation=\"0.69 1.69 1.74\">\n",
       "\n",
       "     <Shape>\n",
       "\n",
       "      <Appearance>\n",
       "\n",
       "       <Material diffuseColor=\"1.000 1.000 1.000\" specularColor=\"0.5 0.5 0.5\">\n",
       "\n",
       "       </Material>\n",
       "\n",
       "      </Appearance>\n",
       "\n",
       "      <Sphere radius=\"0.31\">\n",
       "\n",
       "      </Sphere>\n",
       "\n",
       "     </Shape>\n",
       "\n",
       "    </Transform>\n",
       "\n",
       "    <Transform translation=\"0.42 -1.59 -1.91\">\n",
       "\n",
       "     <Shape>\n",
       "\n",
       "      <Appearance>\n",
       "\n",
       "       <Material diffuseColor=\"1.000 1.000 1.000\" specularColor=\"0.5 0.5 0.5\">\n",
       "\n",
       "       </Material>\n",
       "\n",
       "      </Appearance>\n",
       "\n",
       "      <Sphere radius=\"0.31\">\n",
       "\n",
       "      </Sphere>\n",
       "\n",
       "     </Shape>\n",
       "\n",
       "    </Transform>\n",
       "\n",
       "    <Transform translation=\"1.76 -0.49 -2.18\">\n",
       "\n",
       "     <Shape>\n",
       "\n",
       "      <Appearance>\n",
       "\n",
       "       <Material diffuseColor=\"1.000 1.000 1.000\" specularColor=\"0.5 0.5 0.5\">\n",
       "\n",
       "       </Material>\n",
       "\n",
       "      </Appearance>\n",
       "\n",
       "      <Sphere radius=\"0.31\">\n",
       "\n",
       "      </Sphere>\n",
       "\n",
       "     </Shape>\n",
       "\n",
       "    </Transform>\n",
       "\n",
       "    <Transform translation=\"0.31 -0.37 -3.17\">\n",
       "\n",
       "     <Shape>\n",
       "\n",
       "      <Appearance>\n",
       "\n",
       "       <Material diffuseColor=\"1.000 1.000 1.000\" specularColor=\"0.5 0.5 0.5\">\n",
       "\n",
       "       </Material>\n",
       "\n",
       "      </Appearance>\n",
       "\n",
       "      <Sphere radius=\"0.31\">\n",
       "\n",
       "      </Sphere>\n",
       "\n",
       "     </Shape>\n",
       "\n",
       "    </Transform>\n",
       "\n",
       "   </Scene>\n",
       "\n",
       "  </X3D>\n",
       "\n",
       " </body>\n",
       "\n",
       "</html>\n",
       "\n"
      ],
      "text/plain": [
       "<IPython.core.display.HTML object>"
      ]
     },
     "execution_count": 4,
     "metadata": {},
     "output_type": "execute_result"
    }
   ],
   "source": [
    "from ase.visualize import view\n",
    "print(atom.get_chemical_symbols())\n",
    "view(atom, viewer=\"x3d\")"
   ]
  },
  {
   "cell_type": "markdown",
   "id": "c7272ded",
   "metadata": {},
   "source": [
    "## Répartition de l'énergie"
   ]
  },
  {
   "cell_type": "code",
   "execution_count": 5,
   "id": "ba69bbed",
   "metadata": {
    "colab": {
     "base_uri": "https://localhost:8080/",
     "height": 279
    },
    "id": "ba69bbed",
    "outputId": "55a9984c-a00c-42f1-9608-b82d62097bb4"
   },
   "outputs": [
    {
     "data": {
      "image/png": "[encoded data removed]",
      "text/plain": [
       "<Figure size 576x288 with 1 Axes>"
      ]
     },
     "metadata": {
      "needs_background": "light"
     },
     "output_type": "display_data"
    }
   ],
   "source": [
    "df_energy = pd.read_csv(\"train/energies/train.csv\", index_col=\"id\")\n",
    "plt.figure(figsize=(8,4))\n",
    "plt.hist(df_energy, bins=20)\n",
    "plt.xlabel(\"Energie\");"
   ]
  },
  {
   "cell_type": "markdown",
   "id": "38077359",
   "metadata": {},
   "source": [
    "## Stratégie pour rendre la molécule invariante par translation/rotation/permutation"
   ]
  },
  {
   "cell_type": "code",
   "execution_count": 6,
   "id": "e410834b",
   "metadata": {
    "id": "e410834b"
   },
   "outputs": [],
   "source": [
    "def permute_atom(atom):\n",
    "    index_perm = np.argsort(atom.get_positions()[:,0])\n",
    "    atom.get_positions()[index_perm]\n",
    "    atom_perm = atom.copy()\n",
    "    \n",
    "    atom_perm.set_positions(atom.get_positions()[index_perm])\n",
    "    atom_perm.set_atomic_numbers(atom.get_atomic_numbers()[index_perm])\n",
    "    return atom_perm\n",
    "\n",
    "def remove_translation(atom):\n",
    "    atom_centered = atom.copy()\n",
    "    atom_centered.set_positions(atom_centered.get_positions() - atom_centered.get_center_of_mass())\n",
    "    return atom_centered\n",
    "\n",
    "def rotate_molecule(atom):\n",
    "    \"\"\" atom is already centered \"\"\"\n",
    "    atom_rotated = atom.copy()\n",
    "    \n",
    "    X = atom_rotated.get_positions()\n",
    "    pca = PCA(n_components=3)\n",
    "    pca.fit(X)\n",
    "    atom_rotated.rotate(pca.components_[0,:], (1, 0, 0))\n",
    "    \n",
    "    X = atom_rotated.get_positions()\n",
    "    pca = PCA(n_components=3)\n",
    "    pca.fit(X)\n",
    "    atom_rotated.rotate(pca.components_[1,:], (0, 1, 0))\n",
    "    \n",
    "    return atom_rotated\n",
    "\n",
    "def preprocess_invariant(atom):\n",
    "    atom_copy = atom.copy()\n",
    "    atom_copy = remove_translation(atom_copy)\n",
    "    atom_copy = rotate_molecule(atom_copy)\n",
    "    atom_copy = permute_atom(atom_copy)\n",
    "    return atom_copy\n",
    "\n",
    "atom_rotated = rotate_molecule(remove_translation(atom))"
   ]
  },
  {
   "cell_type": "markdown",
   "id": "10567c02",
   "metadata": {},
   "source": [
    "## Lecture de tous les fichers (train et test)"
   ]
  },
  {
   "cell_type": "code",
   "execution_count": 7,
   "id": "d6f23321",
   "metadata": {
    "colab": {
     "base_uri": "https://localhost:8080/"
    },
    "id": "01104bed",
    "outputId": "5c88931d-de3e-4b8a-efc8-bc1eefc18286"
   },
   "outputs": [],
   "source": [
    "def get_id_from_filename(filename: str) -> int:\n",
    "    return int(filename.split(\"_\")[1].split(\".\")[0])\n",
    "\n",
    "def preprocess(atom):\n",
    "    mat = cm.create(atom).ravel()\n",
    "    n_atom = atom.get_positions().shape[0]\n",
    "    positions = np.append(atom.get_positions(), np.zeros((23-n_atom, 3)), axis=0)\n",
    "    atomic_numbers = np.append(atom.get_atomic_numbers(), np.zeros(23-n_atom), axis=0).astype(np.int32)\n",
    "    atomic_number_encoded = list(map(lambda x: encoder[x], atomic_numbers))\n",
    "\n",
    "    unique, counts = np.unique(atomic_number_encoded, return_counts=True)\n",
    "    dico = dict(zip(unique, counts))\n",
    "    if 0 not in dico: dico[0] = 0\n",
    "    if 1 not in dico: dico[1] = 0\n",
    "    if 2 not in dico: dico[2] = 0\n",
    "    if 3 not in dico: dico[3] = 0\n",
    "    if 4 not in dico: dico[4] = 0\n",
    "    if 5 not in dico: dico[5] = 0\n",
    "    if 6 not in dico: dico[6] = 0\n",
    "    dico = dict(sorted(dico.items()))\n",
    "\n",
    "    cols = [mat, positions, atomic_numbers, atomic_number_encoded, n_atom, list(dico.values())]\n",
    "    return cols"
   ]
  },
  {
   "cell_type": "code",
   "execution_count": 8,
   "id": "01104bed",
   "metadata": {
    "colab": {
     "base_uri": "https://localhost:8080/"
    },
    "id": "01104bed",
    "outputId": "5c88931d-de3e-4b8a-efc8-bc1eefc18286"
   },
   "outputs": [
    {
     "data": {
      "application/vnd.jupyter.widget-view+json": {
       "model_id": "ad207f7083254dd290f8b6fbe8e91ef5",
       "version_major": 2,
       "version_minor": 0
      },
      "text/plain": [
       "Loading train data:   0%|          | 0/6773 [00:00<?, ? files/s]"
      ]
     },
     "metadata": {},
     "output_type": "display_data"
    },
    {
     "data": {
      "application/vnd.jupyter.widget-view+json": {
       "model_id": "18e25d75e7fa46fb899bcb5219dc1c96",
       "version_major": 2,
       "version_minor": 0
      },
      "text/plain": [
       "Loading test data:   0%|          | 0/1697 [00:00<?, ? files/s]"
      ]
     },
     "metadata": {},
     "output_type": "display_data"
    },
    {
     "data": {
      "text/html": [
       "<div>\n",
       "<style scoped>\n",
       "    .dataframe tbody tr th:only-of-type {\n",
       "        vertical-align: middle;\n",
       "    }\n",
       "\n",
       "    .dataframe tbody tr th {\n",
       "        vertical-align: top;\n",
       "    }\n",
       "\n",
       "    .dataframe thead th {\n",
       "        text-align: right;\n",
       "    }\n",
       "</style>\n",
       "<table border=\"1\" class=\"dataframe\">\n",
       "  <thead>\n",
       "    <tr style=\"text-align: right;\">\n",
       "      <th></th>\n",
       "      <th>coulombmat</th>\n",
       "      <th>positions</th>\n",
       "      <th>atomic_number</th>\n",
       "      <th>atomic_number_encoded</th>\n",
       "      <th>n_atom</th>\n",
       "      <th>occurences</th>\n",
       "      <th>energy</th>\n",
       "    </tr>\n",
       "  </thead>\n",
       "  <tbody>\n",
       "    <tr>\n",
       "      <th>1</th>\n",
       "      <td>[11.52468800861131, 53.3587073998281, 12.54088...</td>\n",
       "      <td>[[-3.031718199343973, -1.1635336556464375, -0....</td>\n",
       "      <td>[1, 1, 6, 1, 1, 1, 7, 6, 1, 6, 1, 1, 6, 6, 1, ...</td>\n",
       "      <td>[1, 1, 2, 1, 1, 1, 3, 2, 1, 2, 1, 1, 2, 2, 1, ...</td>\n",
       "      <td>19</td>\n",
       "      <td>[4, 12, 5, 2, 0, 0, 0]</td>\n",
       "      <td>-83.490555</td>\n",
       "    </tr>\n",
       "    <tr>\n",
       "      <th>2</th>\n",
       "      <td>[3.226042309156487, 2.1218073077605566, 1.3996...</td>\n",
       "      <td>[[-3.1834357624456726, -0.5812226755675741, 0....</td>\n",
       "      <td>[1, 1, 6, 1, 1, 1, 6, 6, 1, 1, 6, 1, 1, 6, 1, ...</td>\n",
       "      <td>[1, 1, 2, 1, 1, 1, 2, 2, 1, 1, 2, 1, 1, 2, 1, ...</td>\n",
       "      <td>20</td>\n",
       "      <td>[3, 13, 6, 1, 0, 0, 0]</td>\n",
       "      <td>-90.173970</td>\n",
       "    </tr>\n",
       "    <tr>\n",
       "      <th>3</th>\n",
       "      <td>[2.2344029898783004, 2.6586614043817796, 2.658...</td>\n",
       "      <td>[[-2.262872569167944, 1.1931928401405345, 0.32...</td>\n",
       "      <td>[1, 1, 1, 1, 6, 6, 6, 6, 7, 1, 1, 1, 6, 1, 6, ...</td>\n",
       "      <td>[1, 1, 1, 1, 2, 2, 2, 2, 3, 1, 1, 1, 2, 1, 2, ...</td>\n",
       "      <td>18</td>\n",
       "      <td>[5, 11, 6, 1, 0, 0, 0]</td>\n",
       "      <td>-84.345419</td>\n",
       "    </tr>\n",
       "    <tr>\n",
       "      <th>4</th>\n",
       "      <td>[2.610498782158315, 2.7858579109209707, 5.4580...</td>\n",
       "      <td>[[-3.1225690841021643, -0.20320536010361373, 0...</td>\n",
       "      <td>[1, 1, 7, 1, 6, 1, 1, 6, 1, 1, 6, 6, 1, 1, 0, ...</td>\n",
       "      <td>[1, 1, 3, 1, 2, 1, 1, 2, 1, 1, 2, 2, 1, 1, 0, ...</td>\n",
       "      <td>14</td>\n",
       "      <td>[9, 9, 4, 1, 0, 0, 0]</td>\n",
       "      <td>-62.286505</td>\n",
       "    </tr>\n",
       "    <tr>\n",
       "      <th>5</th>\n",
       "      <td>[16.48691027811819, 36.85810519942594, 23.1821...</td>\n",
       "      <td>[[-2.4137354698527576, 0.38619393376686284, -0...</td>\n",
       "      <td>[1, 1, 7, 1, 6, 1, 1, 6, 6, 1, 1, 1, 6, 1, 6, ...</td>\n",
       "      <td>[1, 1, 3, 1, 2, 1, 1, 2, 2, 1, 1, 1, 2, 1, 2, ...</td>\n",
       "      <td>20</td>\n",
       "      <td>[3, 13, 6, 1, 0, 0, 0]</td>\n",
       "      <td>-90.351426</td>\n",
       "    </tr>\n",
       "    <tr>\n",
       "      <th>...</th>\n",
       "      <td>...</td>\n",
       "      <td>...</td>\n",
       "      <td>...</td>\n",
       "      <td>...</td>\n",
       "      <td>...</td>\n",
       "      <td>...</td>\n",
       "      <td>...</td>\n",
       "    </tr>\n",
       "    <tr>\n",
       "      <th>6766</th>\n",
       "      <td>[1.7479283707388085, 1.298795238500539, 2.8420...</td>\n",
       "      <td>[[-3.773184497355326, -0.6995461143164661, -0....</td>\n",
       "      <td>[1, 6, 1, 1, 1, 1, 6, 6, 6, 6, 1, 1, 6, 1, 0, ...</td>\n",
       "      <td>[1, 2, 1, 1, 1, 1, 2, 2, 2, 2, 1, 1, 2, 1, 0, ...</td>\n",
       "      <td>14</td>\n",
       "      <td>[9, 8, 6, 0, 0, 0, 0]</td>\n",
       "      <td>-70.422283</td>\n",
       "    </tr>\n",
       "    <tr>\n",
       "      <th>6767</th>\n",
       "      <td>[3.194189057147865, 2.6837060501367156, 1.2511...</td>\n",
       "      <td>[[-3.3434292345739585, -0.587479780001839, -0....</td>\n",
       "      <td>[1, 1, 1, 6, 1, 1, 6, 6, 1, 1, 1, 6, 1, 1, 6, ...</td>\n",
       "      <td>[1, 1, 1, 2, 1, 1, 2, 2, 1, 1, 1, 2, 1, 1, 2, ...</td>\n",
       "      <td>20</td>\n",
       "      <td>[3, 13, 6, 1, 0, 0, 0]</td>\n",
       "      <td>-90.129364</td>\n",
       "    </tr>\n",
       "    <tr>\n",
       "      <th>6768</th>\n",
       "      <td>[13.540294550085978, 29.699975469276723, 10.26...</td>\n",
       "      <td>[[-3.7748328754347917, -0.1778788464842736, -0...</td>\n",
       "      <td>[1, 6, 1, 1, 1, 1, 6, 1, 6, 1, 6, 6, 1, 1, 6, ...</td>\n",
       "      <td>[1, 2, 1, 1, 1, 1, 2, 1, 2, 1, 2, 2, 1, 1, 2, ...</td>\n",
       "      <td>17</td>\n",
       "      <td>[6, 10, 7, 0, 0, 0, 0]</td>\n",
       "      <td>-84.196158</td>\n",
       "    </tr>\n",
       "    <tr>\n",
       "      <th>6769</th>\n",
       "      <td>[2.6369988130144, 5.434954217619749, 2.8654627...</td>\n",
       "      <td>[[-3.2600525904212003, -1.7061949394833409, 0....</td>\n",
       "      <td>[1, 1, 7, 1, 6, 1, 6, 1, 1, 1, 6, 1, 6, 6, 6, ...</td>\n",
       "      <td>[1, 1, 3, 1, 2, 1, 2, 1, 1, 1, 2, 1, 2, 2, 2, ...</td>\n",
       "      <td>18</td>\n",
       "      <td>[5, 11, 6, 1, 0, 0, 0]</td>\n",
       "      <td>-83.860432</td>\n",
       "    </tr>\n",
       "    <tr>\n",
       "      <th>6770</th>\n",
       "      <td>[3.3434252000729727, 1.7665221168975178, 1.466...</td>\n",
       "      <td>[[-3.0682969860352305, -1.0393331193624695, -0...</td>\n",
       "      <td>[1, 1, 1, 6, 1, 6, 1, 1, 6, 1, 7, 1, 1, 6, 1, ...</td>\n",
       "      <td>[1, 1, 1, 2, 1, 2, 1, 1, 2, 1, 3, 1, 1, 2, 1, ...</td>\n",
       "      <td>16</td>\n",
       "      <td>[7, 11, 4, 1, 0, 0, 0]</td>\n",
       "      <td>-68.260017</td>\n",
       "    </tr>\n",
       "  </tbody>\n",
       "</table>\n",
       "<p>6770 rows × 7 columns</p>\n",
       "</div>"
      ],
      "text/plain": [
       "                                             coulombmat  \\\n",
       "1     [11.52468800861131, 53.3587073998281, 12.54088...   \n",
       "2     [3.226042309156487, 2.1218073077605566, 1.3996...   \n",
       "3     [2.2344029898783004, 2.6586614043817796, 2.658...   \n",
       "4     [2.610498782158315, 2.7858579109209707, 5.4580...   \n",
       "5     [16.48691027811819, 36.85810519942594, 23.1821...   \n",
       "...                                                 ...   \n",
       "6766  [1.7479283707388085, 1.298795238500539, 2.8420...   \n",
       "6767  [3.194189057147865, 2.6837060501367156, 1.2511...   \n",
       "6768  [13.540294550085978, 29.699975469276723, 10.26...   \n",
       "6769  [2.6369988130144, 5.434954217619749, 2.8654627...   \n",
       "6770  [3.3434252000729727, 1.7665221168975178, 1.466...   \n",
       "\n",
       "                                              positions  \\\n",
       "1     [[-3.031718199343973, -1.1635336556464375, -0....   \n",
       "2     [[-3.1834357624456726, -0.5812226755675741, 0....   \n",
       "3     [[-2.262872569167944, 1.1931928401405345, 0.32...   \n",
       "4     [[-3.1225690841021643, -0.20320536010361373, 0...   \n",
       "5     [[-2.4137354698527576, 0.38619393376686284, -0...   \n",
       "...                                                 ...   \n",
       "6766  [[-3.773184497355326, -0.6995461143164661, -0....   \n",
       "6767  [[-3.3434292345739585, -0.587479780001839, -0....   \n",
       "6768  [[-3.7748328754347917, -0.1778788464842736, -0...   \n",
       "6769  [[-3.2600525904212003, -1.7061949394833409, 0....   \n",
       "6770  [[-3.0682969860352305, -1.0393331193624695, -0...   \n",
       "\n",
       "                                          atomic_number  \\\n",
       "1     [1, 1, 6, 1, 1, 1, 7, 6, 1, 6, 1, 1, 6, 6, 1, ...   \n",
       "2     [1, 1, 6, 1, 1, 1, 6, 6, 1, 1, 6, 1, 1, 6, 1, ...   \n",
       "3     [1, 1, 1, 1, 6, 6, 6, 6, 7, 1, 1, 1, 6, 1, 6, ...   \n",
       "4     [1, 1, 7, 1, 6, 1, 1, 6, 1, 1, 6, 6, 1, 1, 0, ...   \n",
       "5     [1, 1, 7, 1, 6, 1, 1, 6, 6, 1, 1, 1, 6, 1, 6, ...   \n",
       "...                                                 ...   \n",
       "6766  [1, 6, 1, 1, 1, 1, 6, 6, 6, 6, 1, 1, 6, 1, 0, ...   \n",
       "6767  [1, 1, 1, 6, 1, 1, 6, 6, 1, 1, 1, 6, 1, 1, 6, ...   \n",
       "6768  [1, 6, 1, 1, 1, 1, 6, 1, 6, 1, 6, 6, 1, 1, 6, ...   \n",
       "6769  [1, 1, 7, 1, 6, 1, 6, 1, 1, 1, 6, 1, 6, 6, 6, ...   \n",
       "6770  [1, 1, 1, 6, 1, 6, 1, 1, 6, 1, 7, 1, 1, 6, 1, ...   \n",
       "\n",
       "                                  atomic_number_encoded n_atom  \\\n",
       "1     [1, 1, 2, 1, 1, 1, 3, 2, 1, 2, 1, 1, 2, 2, 1, ...     19   \n",
       "2     [1, 1, 2, 1, 1, 1, 2, 2, 1, 1, 2, 1, 1, 2, 1, ...     20   \n",
       "3     [1, 1, 1, 1, 2, 2, 2, 2, 3, 1, 1, 1, 2, 1, 2, ...     18   \n",
       "4     [1, 1, 3, 1, 2, 1, 1, 2, 1, 1, 2, 2, 1, 1, 0, ...     14   \n",
       "5     [1, 1, 3, 1, 2, 1, 1, 2, 2, 1, 1, 1, 2, 1, 2, ...     20   \n",
       "...                                                 ...    ...   \n",
       "6766  [1, 2, 1, 1, 1, 1, 2, 2, 2, 2, 1, 1, 2, 1, 0, ...     14   \n",
       "6767  [1, 1, 1, 2, 1, 1, 2, 2, 1, 1, 1, 2, 1, 1, 2, ...     20   \n",
       "6768  [1, 2, 1, 1, 1, 1, 2, 1, 2, 1, 2, 2, 1, 1, 2, ...     17   \n",
       "6769  [1, 1, 3, 1, 2, 1, 2, 1, 1, 1, 2, 1, 2, 2, 2, ...     18   \n",
       "6770  [1, 1, 1, 2, 1, 2, 1, 1, 2, 1, 3, 1, 1, 2, 1, ...     16   \n",
       "\n",
       "                  occurences     energy  \n",
       "1     [4, 12, 5, 2, 0, 0, 0] -83.490555  \n",
       "2     [3, 13, 6, 1, 0, 0, 0] -90.173970  \n",
       "3     [5, 11, 6, 1, 0, 0, 0] -84.345419  \n",
       "4      [9, 9, 4, 1, 0, 0, 0] -62.286505  \n",
       "5     [3, 13, 6, 1, 0, 0, 0] -90.351426  \n",
       "...                      ...        ...  \n",
       "6766   [9, 8, 6, 0, 0, 0, 0] -70.422283  \n",
       "6767  [3, 13, 6, 1, 0, 0, 0] -90.129364  \n",
       "6768  [6, 10, 7, 0, 0, 0, 0] -84.196158  \n",
       "6769  [5, 11, 6, 1, 0, 0, 0] -83.860432  \n",
       "6770  [7, 11, 4, 1, 0, 0, 0] -68.260017  \n",
       "\n",
       "[6770 rows x 7 columns]"
      ]
     },
     "execution_count": 8,
     "metadata": {},
     "output_type": "execute_result"
    }
   ],
   "source": [
    "list_cols = [\"coulombmat\", \"positions\", \"atomic_number\", \"atomic_number_encoded\", \"n_atom\", \"occurences\"]\n",
    "\n",
    "df_train = pd.DataFrame(columns=list_cols + [\"energy\"])\n",
    "df_test = pd.DataFrame(columns=list_cols)\n",
    "\n",
    "encoder = {0: 0, 1: 1, 6: 2, 7: 3, 8: 4, 16: 5, 17: 6}\n",
    "cm = CoulombMatrix(23)\n",
    "\n",
    "for filename in tqdm(os.listdir(\"train/atoms/train/\")[:], desc='Loading train data', unit=' files'):\n",
    "    ids_file = get_id_from_filename(filename)\n",
    "    if ids_file not in [6771, 6772, 6773]:\n",
    "        atom = io.read(f\"train/atoms/train/id_{ids_file}.xyz\")\n",
    "\n",
    "        atom = preprocess_invariant(atom)\n",
    "        cols = preprocess(atom)\n",
    "        \n",
    "        energy = df_energy.loc[ids_file][0]\n",
    "        df_train.loc[ids_file] = cols + [energy]\n",
    "    \n",
    "\n",
    "for filename in tqdm(os.listdir(\"train/atoms/test/\")[:], desc='Loading test data', unit=' files'):\n",
    "    ids_file = get_id_from_filename(filename)\n",
    "    atom = io.read(f\"train/atoms/test/id_{ids_file}.xyz\")\n",
    "\n",
    "    atom = preprocess_invariant(atom)\n",
    "    cols = preprocess(atom)\n",
    "    df_test.loc[ids_file] = cols\n",
    "\n",
    "    \n",
    "df_train = df_train.sort_index()\n",
    "df_test = df_test.sort_index()\n",
    "y = df_train[[\"energy\"]].to_numpy()\n",
    "df_train"
   ]
  },
  {
   "cell_type": "code",
   "execution_count": 10,
   "id": "df871552",
   "metadata": {
    "id": "df871552"
   },
   "outputs": [],
   "source": [
    "# import pickle\n",
    "# pickle.dump(df_train, open(\"train_preprocess.pkl\", \"wb\"))\n",
    "# pickle.dump(df_train, open(\"test_preprocess.pkl\", \"wb\"))\n",
    "\n",
    "# pickle.load(open(\"train_preprocess.pkl\", \"rb\"))"
   ]
  },
  {
   "cell_type": "code",
   "execution_count": 11,
   "id": "aefa9a06",
   "metadata": {
    "id": "aefa9a06"
   },
   "outputs": [],
   "source": [
    "def predwrite(df_test, model, filename):\n",
    "    X_test = preprocess_df_modele1(df_test)\n",
    "    y_pred = model.predict(X_test)\n",
    "    results = pd.DataFrame({\"id\": list(df_test.index), \"predicted\": np.ravel(y_pred)})\n",
    "    results = results.iloc[1:-4]\n",
    "    results.to_csv(filename, index=False)"
   ]
  },
  {
   "cell_type": "markdown",
   "id": "bed82e95",
   "metadata": {},
   "source": [
    "## Modèles de Machine Learning"
   ]
  },
  {
   "cell_type": "code",
   "execution_count": 12,
   "id": "f560feb1",
   "metadata": {},
   "outputs": [],
   "source": [
    "from sklearn.linear_model import LinearRegression, Ridge\n",
    "from sklearn.ensemble import VotingRegressor\n",
    "from xgboost import XGBRegressor\n",
    "from sklearn.model_selection import train_test_split\n",
    "from sklearn.metrics import mean_squared_error\n",
    "\n",
    "def rmse(y_test, y_pred):\n",
    "    return np.sqrt(mean_squared_error(y_test, y_pred))"
   ]
  },
  {
   "cell_type": "markdown",
   "id": "b292c9e9",
   "metadata": {
    "id": "b292c9e9"
   },
   "source": [
    "## Modèle 1\n",
    "Energie en fonction des occurrences chaque atomes "
   ]
  },
  {
   "cell_type": "code",
   "execution_count": 13,
   "id": "7bb141e1",
   "metadata": {
    "id": "7bb141e1",
    "outputId": "81fc3e5b-93e2-4a8d-f5e9-f34701a70e12"
   },
   "outputs": [
    {
     "data": {
      "image/png": "[encoded data removed]",
      "text/plain": [
       "<Figure size 576x288 with 1 Axes>"
      ]
     },
     "metadata": {
      "needs_background": "light"
     },
     "output_type": "display_data"
    }
   ],
   "source": [
    "plt.figure(figsize=(8,4))\n",
    "plt.scatter(df_train[\"n_atom\"], df_train[\"energy\"])\n",
    "plt.xticks(np.arange(3, 24, 1))\n",
    "plt.xlabel(\"Nombre d'atomes\")\n",
    "plt.grid()\n",
    "plt.ylabel(\"Energie\");"
   ]
  },
  {
   "cell_type": "code",
   "execution_count": 14,
   "id": "dcd48320",
   "metadata": {},
   "outputs": [
    {
     "name": "stdout",
     "output_type": "stream",
     "text": [
      "(6770, 7)\n"
     ]
    },
    {
     "data": {
      "text/plain": [
       "array([[ 4, 12,  5, ...,  0,  0,  0],\n",
       "       [ 3, 13,  6, ...,  0,  0,  0],\n",
       "       [ 5, 11,  6, ...,  0,  0,  0],\n",
       "       ...,\n",
       "       [ 6, 10,  7, ...,  0,  0,  0],\n",
       "       [ 5, 11,  6, ...,  0,  0,  0],\n",
       "       [ 7, 11,  4, ...,  0,  0,  0]])"
      ]
     },
     "execution_count": 14,
     "metadata": {},
     "output_type": "execute_result"
    }
   ],
   "source": [
    "def preprocess_df_modele1(df):\n",
    "    X = []\n",
    "    for index, row in df.iterrows():\n",
    "        X.append(row[\"occurences\"])\n",
    "\n",
    "    X = np.array(X)\n",
    "    return X\n",
    "\n",
    "X = preprocess_df_modele1(df_train)\n",
    "print(X.shape)\n",
    "X"
   ]
  },
  {
   "cell_type": "code",
   "execution_count": 15,
   "id": "ab12439c",
   "metadata": {},
   "outputs": [
    {
     "name": "stdout",
     "output_type": "stream",
     "text": [
      "RMSE régression Ridge: 0.58\n"
     ]
    }
   ],
   "source": [
    "X_train, X_test, y_train, y_test = train_test_split(X, y, test_size=0.2, random_state=42, shuffle=False)\n",
    "\n",
    "lr = LinearRegression()\n",
    "lr.fit(X_train, y_train)\n",
    "\n",
    "y_pred1 = lr.predict(X_test)\n",
    "print(f\"RMSE régression Ridge: {rmse(y_test, y_pred1):.2f}\")"
   ]
  },
  {
   "cell_type": "markdown",
   "id": "f94a270d",
   "metadata": {},
   "source": [
    "## Modèle 2\n",
    "Energie en fonction de la matrice de Coulomb"
   ]
  },
  {
   "cell_type": "code",
   "execution_count": 16,
   "id": "6a6ced01",
   "metadata": {
    "colab": {
     "base_uri": "https://localhost:8080/"
    },
    "id": "6a6ced01",
    "outputId": "bada7de1-575d-4e55-b20f-bbf55b5805c9"
   },
   "outputs": [
    {
     "name": "stdout",
     "output_type": "stream",
     "text": [
      "(6770, 529)\n"
     ]
    },
    {
     "data": {
      "text/plain": [
       "array([[11.52468801, 53.3587074 , 12.54088981, ...,  0.        ,\n",
       "         0.        ,  0.        ],\n",
       "       [ 3.22604231,  2.12180731,  1.3996314 , ...,  0.        ,\n",
       "         0.        ,  0.        ],\n",
       "       [ 2.23440299,  2.6586614 ,  2.65860806, ...,  0.        ,\n",
       "         0.        ,  0.        ],\n",
       "       ...,\n",
       "       [13.54029455, 29.69997547, 10.26315306, ...,  0.        ,\n",
       "         0.        ,  0.        ],\n",
       "       [ 2.63699881,  5.43495422,  2.86546271, ...,  0.        ,\n",
       "         0.        ,  0.        ],\n",
       "       [ 3.3434252 ,  1.76652212,  1.46626336, ...,  0.        ,\n",
       "         0.        ,  0.        ]])"
      ]
     },
     "execution_count": 16,
     "metadata": {},
     "output_type": "execute_result"
    }
   ],
   "source": [
    "def preprocess_df_modele2(df):\n",
    "    X = []\n",
    "    for index, row in df.iterrows():\n",
    "        X.append(list(row[\"coulombmat\"]))\n",
    "\n",
    "    X = np.array(X)\n",
    "    return X\n",
    "\n",
    "X = preprocess_df_modele2(df_train)\n",
    "print(X.shape)\n",
    "X"
   ]
  },
  {
   "cell_type": "code",
   "execution_count": 17,
   "id": "69d72b4f",
   "metadata": {
    "id": "69d72b4f",
    "outputId": "8fe30836-6f3c-40a0-9b2c-a5ee7abd5dff"
   },
   "outputs": [
    {
     "name": "stdout",
     "output_type": "stream",
     "text": [
      "RMSE XGBoost: 1.12\n"
     ]
    }
   ],
   "source": [
    "X_train, X_test, y_train, y_test = train_test_split(X, y, test_size=0.2, random_state=42, shuffle=False)\n",
    "\n",
    "xgb = XGBRegressor(n_estimators=300)\n",
    "xgb.fit(X_train, y_train)\n",
    "\n",
    "y_pred2 = xgb.predict(X_test)\n",
    "\n",
    "print(f\"RMSE XGBoost: {rmse(y_test, y_pred2):.2f}\")"
   ]
  },
  {
   "cell_type": "markdown",
   "id": "5f7ba8e6",
   "metadata": {},
   "source": [
    "## Modèle 3\n",
    "Energie en fonction des occurences de chaque atome, de la matrice de Coulomb et des atomes présents"
   ]
  },
  {
   "cell_type": "code",
   "execution_count": 18,
   "id": "4e69143f",
   "metadata": {},
   "outputs": [
    {
     "name": "stdout",
     "output_type": "stream",
     "text": [
      "(6770, 559)\n"
     ]
    },
    {
     "data": {
      "text/plain": [
       "array([[ 4., 12.,  5., ...,  0.,  0.,  0.],\n",
       "       [ 3., 13.,  6., ...,  0.,  0.,  0.],\n",
       "       [ 5., 11.,  6., ...,  0.,  0.,  0.],\n",
       "       ...,\n",
       "       [ 6., 10.,  7., ...,  0.,  0.,  0.],\n",
       "       [ 5., 11.,  6., ...,  0.,  0.,  0.],\n",
       "       [ 7., 11.,  4., ...,  0.,  0.,  0.]])"
      ]
     },
     "execution_count": 18,
     "metadata": {},
     "output_type": "execute_result"
    }
   ],
   "source": [
    "def preprocess_df_modele3(df):\n",
    "    X = []\n",
    "    for index, row in df.iterrows():\n",
    "        X.append(row[\"occurences\"] + list(row[\"coulombmat\"]) + row[\"atomic_number_encoded\"])\n",
    "\n",
    "    X = np.array(X)\n",
    "    return X\n",
    "\n",
    "X = preprocess_df_modele3(df_train)\n",
    "print(X.shape)\n",
    "X"
   ]
  },
  {
   "cell_type": "code",
   "execution_count": 19,
   "id": "15075495",
   "metadata": {},
   "outputs": [
    {
     "name": "stderr",
     "output_type": "stream",
     "text": [
      "/home/n7student/anaconda3/envs/modia/lib/python3.8/site-packages/sklearn/utils/validation.py:63: DataConversionWarning: A column-vector y was passed when a 1d array was expected. Please change the shape of y to (n_samples, ), for example using ravel().\n",
      "  return f(*args, **kwargs)\n"
     ]
    },
    {
     "name": "stdout",
     "output_type": "stream",
     "text": [
      "RMSE XGBoost:\t\t0.60\n",
      "RMSE régression Ridge:\t0.48\n",
      "RMSE XGBoost + Ridge:\t0.45\n"
     ]
    }
   ],
   "source": [
    "X_train, X_test, y_train, y_test = train_test_split(X, y, test_size=0.2, random_state=42, shuffle=False)\n",
    "\n",
    "xgb = XGBRegressor(n_estimators=300)\n",
    "xgb.fit(X_train, y_train)\n",
    "\n",
    "ridge = Ridge()\n",
    "ridge.fit(X_train, y_train)\n",
    "\n",
    "er = VotingRegressor([('xgb', xgb), ('ridge', ridge)])\n",
    "er.fit(X_train, y_train)\n",
    "\n",
    "y_pred31 = xgb.predict(X_test)\n",
    "y_pred32 = ridge.predict(X_test)\n",
    "y_pred33 = er.predict(X_test)\n",
    "\n",
    "print(f\"RMSE XGBoost:\\t\\t{rmse(y_test, y_pred31):.2f}\")\n",
    "print(f\"RMSE régression Ridge:\\t{rmse(y_test, y_pred32):.2f}\")\n",
    "print(f\"RMSE XGBoost + Ridge:\\t{rmse(y_test, y_pred33):.2f}\")"
   ]
  },
  {
   "cell_type": "markdown",
   "id": "5449ce63",
   "metadata": {},
   "source": [
    "## Ecriture du fichier test"
   ]
  },
  {
   "cell_type": "code",
   "execution_count": 20,
   "id": "ea402215",
   "metadata": {
    "id": "ea402215"
   },
   "outputs": [],
   "source": [
    "# predwrite(df_test, er, 'truetest_pred_modele_ensemble.csv')"
   ]
  }
 ],
 "metadata": {
  "accelerator": "GPU",
  "colab": {
   "name": "code.ipynb",
   "provenance": []
  },
  "gpuClass": "standard",
  "kernelspec": {
   "display_name": "Python 3",
   "language": "python",
   "name": "python3"
  },
  "language_info": {
   "codemirror_mode": {
    "name": "ipython",
    "version": 3
   },
   "file_extension": ".py",
   "mimetype": "text/x-python",
   "name": "python",
   "nbconvert_exporter": "python",
   "pygments_lexer": "ipython3",
   "version": "3.8.5"
  }
 },
 "nbformat": 4,
 "nbformat_minor": 5
}
